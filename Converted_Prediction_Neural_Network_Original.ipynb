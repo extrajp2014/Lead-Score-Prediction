{
 "cells": [
  {
   "cell_type": "markdown",
   "metadata": {},
   "source": [
    "# Predict 'Converted' Column Using Gradient Descent and Neural Network"
   ]
  },
  {
   "cell_type": "markdown",
   "metadata": {},
   "source": [
    "## Import"
   ]
  },
  {
   "cell_type": "code",
   "execution_count": 10,
   "metadata": {
    "ExecuteTime": {
     "end_time": "2019-05-15T18:45:30.513081Z",
     "start_time": "2019-05-15T18:45:30.497849Z"
    },
    "scrolled": true
   },
   "outputs": [],
   "source": [
    "# essentials\n",
    "import pandas as pd\n",
    "import numpy as np\n",
    "import warnings\n",
    "import seaborn as sns\n",
    "import matplotlib.pyplot as plt\n",
    "from sklearn.metrics import roc_auc_score\n",
    "from sklearn.model_selection import cross_val_score\n",
    "from sklearn.model_selection import train_test_split\n",
    "import category_encoders as ce\n",
    "from sklearn.preprocessing import StandardScaler\n",
    "from xgboost import XGBClassifier, plot_importance\n",
    "from keras.wrappers.scikit_learn import KerasClassifier\n",
    "from keras.models import Sequential\n",
    "from keras.layers import Dense\n",
    "from keras import backend as K\n",
    "import tensorflow as tf\n"
   ]
  },
  {
   "cell_type": "markdown",
   "metadata": {},
   "source": [
    "## Functions"
   ]
  },
  {
   "cell_type": "code",
   "execution_count": 14,
   "metadata": {
    "ExecuteTime": {
     "end_time": "2019-05-15T18:48:09.523091Z",
     "start_time": "2019-05-15T18:48:09.506092Z"
    }
   },
   "outputs": [],
   "source": [
    "def auc(y_true, y_pred):\n",
    "    auc = tf.metrics.auc(y_true, y_pred)[1]\n",
    "    K.get_session().run(tf.local_variables_initializer())\n",
    "    return auc\n",
    "\n",
    "def create_model():\n",
    "    model = Sequential()\n",
    "    model.add(Dense(24, activation='relu', input_shape=(inputs,)))\n",
    "    model.add(Dense(16, activation='sigmoid'))\n",
    "    model.add(Dense(1, activation='sigmoid'))\n",
    "    model.compile(loss='binary_crossentropy', optimizer='adam', metrics=[auc])\n",
    "    return model"
   ]
  },
  {
   "cell_type": "markdown",
   "metadata": {},
   "source": [
    "## Wrangle - Version 2"
   ]
  },
  {
   "cell_type": "code",
   "execution_count": 12,
   "metadata": {
    "ExecuteTime": {
     "end_time": "2019-05-15T18:46:11.373438Z",
     "start_time": "2019-05-15T18:45:46.284725Z"
    }
   },
   "outputs": [
    {
     "name": "stdout",
     "output_type": "stream",
     "text": [
      "mail                                   object\n",
      "name                                   object\n",
      "sex                                    object\n",
      "username                               object\n",
      "days_since_signup                       int64\n",
      "acquisition_channel                    object\n",
      "job_title                              object\n",
      "company_size                           object\n",
      "completed_form                          int64\n",
      "visited_pricing                         int64\n",
      "registered_for_webinar                  int64\n",
      "attended_webinar                        int64\n",
      "industry                               object\n",
      "converted                               int64\n",
      "is_manager                               bool\n",
      "acquisition_channel_Cold Call           int64\n",
      "acquisition_channel_Cold Email          int64\n",
      "acquisition_channel_Organic Search      int64\n",
      "acquisition_channel_Paid Leads          int64\n",
      "acquisition_channel_Paid Search         int64\n",
      "company_size_1-10                       int64\n",
      "company_size_1000-10000                 int64\n",
      "company_size_10001+                     int64\n",
      "company_size_101-250                    int64\n",
      "company_size_11-50                      int64\n",
      "company_size_251-1000                   int64\n",
      "company_size_51-100                     int64\n",
      "industry_Financial Services             int64\n",
      "industry_Furniture                      int64\n",
      "industry_Heavy Manufacturing            int64\n",
      "Scandanavion Design                     int64\n",
      "Transportation                          int64\n",
      "Internet                                int64\n",
      "score                                 float64\n",
      "zip                                    object\n",
      "birthdate_day                           int64\n",
      "birthdate_month                         int64\n",
      "birthdate_year                          int64\n",
      "dtype: object\n"
     ]
    },
    {
     "data": {
      "text/html": [
       "<div>\n",
       "<style scoped>\n",
       "    .dataframe tbody tr th:only-of-type {\n",
       "        vertical-align: middle;\n",
       "    }\n",
       "\n",
       "    .dataframe tbody tr th {\n",
       "        vertical-align: top;\n",
       "    }\n",
       "\n",
       "    .dataframe thead th {\n",
       "        text-align: right;\n",
       "    }\n",
       "</style>\n",
       "<table border=\"1\" class=\"dataframe\">\n",
       "  <thead>\n",
       "    <tr style=\"text-align: right;\">\n",
       "      <th></th>\n",
       "      <th>mail</th>\n",
       "      <th>name</th>\n",
       "      <th>sex</th>\n",
       "      <th>username</th>\n",
       "      <th>days_since_signup</th>\n",
       "      <th>acquisition_channel</th>\n",
       "      <th>job_title</th>\n",
       "      <th>company_size</th>\n",
       "      <th>completed_form</th>\n",
       "      <th>visited_pricing</th>\n",
       "      <th>...</th>\n",
       "      <th>industry_Furniture</th>\n",
       "      <th>industry_Heavy Manufacturing</th>\n",
       "      <th>Scandanavion Design</th>\n",
       "      <th>Transportation</th>\n",
       "      <th>Internet</th>\n",
       "      <th>score</th>\n",
       "      <th>zip</th>\n",
       "      <th>birthdate_day</th>\n",
       "      <th>birthdate_month</th>\n",
       "      <th>birthdate_year</th>\n",
       "    </tr>\n",
       "  </thead>\n",
       "  <tbody>\n",
       "    <tr>\n",
       "      <th>0</th>\n",
       "      <td>qturner@hotmail.com</td>\n",
       "      <td>Samuel Simpson</td>\n",
       "      <td>M</td>\n",
       "      <td>debrapeterson</td>\n",
       "      <td>18</td>\n",
       "      <td>Organic Search</td>\n",
       "      <td>Marketing Director</td>\n",
       "      <td>11/01/50</td>\n",
       "      <td>1</td>\n",
       "      <td>1</td>\n",
       "      <td>...</td>\n",
       "      <td>0</td>\n",
       "      <td>0</td>\n",
       "      <td>0</td>\n",
       "      <td>0</td>\n",
       "      <td>1</td>\n",
       "      <td>151.000000</td>\n",
       "      <td>91949</td>\n",
       "      <td>8</td>\n",
       "      <td>8</td>\n",
       "      <td>2010</td>\n",
       "    </tr>\n",
       "    <tr>\n",
       "      <th>1</th>\n",
       "      <td>carramy@yahoo.com</td>\n",
       "      <td>Angelica Sanchez</td>\n",
       "      <td>F</td>\n",
       "      <td>mbrooks</td>\n",
       "      <td>3</td>\n",
       "      <td>Organic Search</td>\n",
       "      <td>Promotion Manager</td>\n",
       "      <td>251-1000</td>\n",
       "      <td>1</td>\n",
       "      <td>0</td>\n",
       "      <td>...</td>\n",
       "      <td>0</td>\n",
       "      <td>0</td>\n",
       "      <td>0</td>\n",
       "      <td>0</td>\n",
       "      <td>1</td>\n",
       "      <td>141.358438</td>\n",
       "      <td>61475</td>\n",
       "      <td>4</td>\n",
       "      <td>12</td>\n",
       "      <td>1981</td>\n",
       "    </tr>\n",
       "    <tr>\n",
       "      <th>2</th>\n",
       "      <td>sbrown@yahoo.com</td>\n",
       "      <td>Connie Taylor</td>\n",
       "      <td>F</td>\n",
       "      <td>aarongriffin</td>\n",
       "      <td>26</td>\n",
       "      <td>Organic Search</td>\n",
       "      <td>Information Systems Manager</td>\n",
       "      <td>1000-10000</td>\n",
       "      <td>0</td>\n",
       "      <td>1</td>\n",
       "      <td>...</td>\n",
       "      <td>0</td>\n",
       "      <td>0</td>\n",
       "      <td>0</td>\n",
       "      <td>0</td>\n",
       "      <td>1</td>\n",
       "      <td>120.448748</td>\n",
       "      <td>56410</td>\n",
       "      <td>25</td>\n",
       "      <td>4</td>\n",
       "      <td>1979</td>\n",
       "    </tr>\n",
       "    <tr>\n",
       "      <th>3</th>\n",
       "      <td>bdixon@gmail.com</td>\n",
       "      <td>Alexis Jones</td>\n",
       "      <td>F</td>\n",
       "      <td>jeffreymorales</td>\n",
       "      <td>19</td>\n",
       "      <td>Cold Email</td>\n",
       "      <td>Territory Sales Manager</td>\n",
       "      <td>10-Jan</td>\n",
       "      <td>1</td>\n",
       "      <td>1</td>\n",
       "      <td>...</td>\n",
       "      <td>0</td>\n",
       "      <td>0</td>\n",
       "      <td>0</td>\n",
       "      <td>0</td>\n",
       "      <td>1</td>\n",
       "      <td>250.335264</td>\n",
       "      <td>08748</td>\n",
       "      <td>13</td>\n",
       "      <td>7</td>\n",
       "      <td>2005</td>\n",
       "    </tr>\n",
       "    <tr>\n",
       "      <th>4</th>\n",
       "      <td>harrisandrea@gmail.com</td>\n",
       "      <td>Lisa Wright</td>\n",
       "      <td>F</td>\n",
       "      <td>hamiltoncameron</td>\n",
       "      <td>7</td>\n",
       "      <td>Organic Search</td>\n",
       "      <td>Data Processing Manager</td>\n",
       "      <td>10001</td>\n",
       "      <td>1</td>\n",
       "      <td>1</td>\n",
       "      <td>...</td>\n",
       "      <td>0</td>\n",
       "      <td>0</td>\n",
       "      <td>0</td>\n",
       "      <td>0</td>\n",
       "      <td>1</td>\n",
       "      <td>0.000000</td>\n",
       "      <td>36499</td>\n",
       "      <td>19</td>\n",
       "      <td>6</td>\n",
       "      <td>1973</td>\n",
       "    </tr>\n",
       "  </tbody>\n",
       "</table>\n",
       "<p>5 rows × 38 columns</p>\n",
       "</div>"
      ],
      "text/plain": [
       "                     mail              name sex         username  \\\n",
       "0     qturner@hotmail.com    Samuel Simpson   M    debrapeterson   \n",
       "1       carramy@yahoo.com  Angelica Sanchez   F          mbrooks   \n",
       "2        sbrown@yahoo.com     Connie Taylor   F     aarongriffin   \n",
       "3        bdixon@gmail.com      Alexis Jones   F   jeffreymorales   \n",
       "4  harrisandrea@gmail.com       Lisa Wright   F  hamiltoncameron   \n",
       "\n",
       "   days_since_signup acquisition_channel                    job_title  \\\n",
       "0                 18      Organic Search           Marketing Director   \n",
       "1                  3      Organic Search            Promotion Manager   \n",
       "2                 26      Organic Search  Information Systems Manager   \n",
       "3                 19          Cold Email      Territory Sales Manager   \n",
       "4                  7      Organic Search      Data Processing Manager   \n",
       "\n",
       "  company_size  completed_form  visited_pricing  ...  industry_Furniture  \\\n",
       "0     11/01/50               1                1  ...                   0   \n",
       "1     251-1000               1                0  ...                   0   \n",
       "2   1000-10000               0                1  ...                   0   \n",
       "3       10-Jan               1                1  ...                   0   \n",
       "4        10001               1                1  ...                   0   \n",
       "\n",
       "   industry_Heavy Manufacturing Scandanavion Design  Transportation  Internet  \\\n",
       "0                             0                   0               0         1   \n",
       "1                             0                   0               0         1   \n",
       "2                             0                   0               0         1   \n",
       "3                             0                   0               0         1   \n",
       "4                             0                   0               0         1   \n",
       "\n",
       "        score    zip  birthdate_day  birthdate_month  birthdate_year  \n",
       "0  151.000000  91949              8                8            2010  \n",
       "1  141.358438  61475              4               12            1981  \n",
       "2  120.448748  56410             25                4            1979  \n",
       "3  250.335264  08748             13                7            2005  \n",
       "4    0.000000  36499             19                6            1973  \n",
       "\n",
       "[5 rows x 38 columns]"
      ]
     },
     "execution_count": 12,
     "metadata": {},
     "output_type": "execute_result"
    }
   ],
   "source": [
    "df = pd.read_csv('leads-and-customers.csv')\n",
    "\n",
    "def mrCleaner(X):\n",
    "    X = X.copy()\n",
    "    X['zip'] = X['address'].str.rsplit(\n",
    "        ' ', 1).str[-1].str.rsplit('-', 1).str[0]\n",
    "    X['birthdate'] = pd.to_datetime(\n",
    "        X['birthdate'], infer_datetime_format=True)\n",
    "    X['birthdate_day'] = X['birthdate'].dt.day\n",
    "    X['birthdate_month'] = X['birthdate'].dt.month\n",
    "    X['birthdate_year'] = X['birthdate'].dt.year\n",
    "    X = X.drop(columns=['birthdate', 'address'])\n",
    "    X = X.drop(X[X.score < 0].index) # Eliminate negative outlier\n",
    "    return X\n",
    "\n",
    "# Split wrangled df into train and test\n",
    "############################### \n",
    "df = mrCleaner(df)\n",
    "\n",
    "train, test, Y_train, Y_test = train_test_split(df, df.loc[:, ['score']].values, test_size=.25)\n",
    "train.to_csv(\"wrangle2_train.csv\", index=False)\n",
    "test.to_csv(\"wrangle2_test.csv\", index=False)\n",
    "\n",
    "df.shape\n",
    "print(df.dtypes)\n",
    "df.head()"
   ]
  },
  {
   "cell_type": "markdown",
   "metadata": {
    "ExecuteTime": {
     "end_time": "2019-05-15T17:11:31.690250Z",
     "start_time": "2019-05-15T17:11:31.678312Z"
    }
   },
   "source": [
    "## Gradient Descent Model With Score Feature"
   ]
  },
  {
   "cell_type": "code",
   "execution_count": 16,
   "metadata": {
    "ExecuteTime": {
     "end_time": "2019-05-15T18:55:37.180315Z",
     "start_time": "2019-05-15T18:54:39.138628Z"
    }
   },
   "outputs": [
    {
     "name": "stderr",
     "output_type": "stream",
     "text": [
      "[Parallel(n_jobs=1)]: Using backend SequentialBackend with 1 concurrent workers.\n"
     ]
    },
    {
     "name": "stdout",
     "output_type": "stream",
     "text": [
      "[CV]  ................................................................\n",
      "[CV] ...................................... , score=1.0, total=   8.3s\n",
      "[CV]  ................................................................\n"
     ]
    },
    {
     "name": "stderr",
     "output_type": "stream",
     "text": [
      "[Parallel(n_jobs=1)]: Done   1 out of   1 | elapsed:    8.4s remaining:    0.0s\n"
     ]
    },
    {
     "name": "stdout",
     "output_type": "stream",
     "text": [
      "[CV] ...................................... , score=1.0, total=   8.3s\n",
      "[CV]  ................................................................\n"
     ]
    },
    {
     "name": "stderr",
     "output_type": "stream",
     "text": [
      "[Parallel(n_jobs=1)]: Done   2 out of   2 | elapsed:   16.7s remaining:    0.0s\n"
     ]
    },
    {
     "name": "stdout",
     "output_type": "stream",
     "text": [
      "[CV] ...................................... , score=1.0, total=   8.8s\n",
      "[CV]  ................................................................\n"
     ]
    },
    {
     "name": "stderr",
     "output_type": "stream",
     "text": [
      "[Parallel(n_jobs=1)]: Done   3 out of   3 | elapsed:   25.5s remaining:    0.0s\n"
     ]
    },
    {
     "name": "stdout",
     "output_type": "stream",
     "text": [
      "[CV] ...................................... , score=1.0, total=   9.7s\n",
      "[CV]  ................................................................\n"
     ]
    },
    {
     "name": "stderr",
     "output_type": "stream",
     "text": [
      "[Parallel(n_jobs=1)]: Done   4 out of   4 | elapsed:   35.2s remaining:    0.0s\n"
     ]
    },
    {
     "name": "stdout",
     "output_type": "stream",
     "text": [
      "[CV] ...................................... , score=1.0, total=   8.8s\n",
      "Mean Estimate Predict Score 1.0\n"
     ]
    },
    {
     "name": "stderr",
     "output_type": "stream",
     "text": [
      "[Parallel(n_jobs=1)]: Done   5 out of   5 | elapsed:   44.0s remaining:    0.0s\n",
      "[Parallel(n_jobs=1)]: Done   5 out of   5 | elapsed:   44.0s finished\n"
     ]
    },
    {
     "name": "stdout",
     "output_type": "stream",
     "text": [
      "Actual Predict Score 1.0\n",
      "----------------------------------------------------------------------------------------------------\n",
      "score                                 1.0\n",
      "birthdate_year                        0.0\n",
      "completed_form                        0.0\n",
      "acquisition_channel_Cold Email        0.0\n",
      "acquisition_channel_Cold Call         0.0\n",
      "is_manager                            0.0\n",
      "industry                              0.0\n",
      "attended_webinar                      0.0\n",
      "registered_for_webinar                0.0\n",
      "visited_pricing                       0.0\n",
      "company_size                          0.0\n",
      "acquisition_channel_Paid Leads        0.0\n",
      "job_title                             0.0\n",
      "acquisition_channel                   0.0\n",
      "days_since_signup                     0.0\n",
      "username                              0.0\n",
      "sex                                   0.0\n",
      "name                                  0.0\n",
      "acquisition_channel_Organic Search    0.0\n",
      "acquisition_channel_Paid Search       0.0\n",
      "birthdate_month                       0.0\n",
      "industry_Furniture                    0.0\n",
      "birthdate_day                         0.0\n",
      "zip                                   0.0\n",
      "Internet                              0.0\n",
      "Transportation                        0.0\n",
      "Scandanavion Design                   0.0\n",
      "industry_Heavy Manufacturing          0.0\n",
      "industry_Financial Services           0.0\n",
      "company_size_1-10                     0.0\n",
      "company_size_51-100                   0.0\n",
      "company_size_251-1000                 0.0\n",
      "company_size_11-50                    0.0\n",
      "company_size_101-250                  0.0\n",
      "company_size_10001+                   0.0\n",
      "company_size_1000-10000               0.0\n",
      "mail                                  0.0\n",
      "dtype: float32\n",
      "----------------------------------------------------------------------------------------------------\n"
     ]
    },
    {
     "data": {
      "image/png": "[encoded data removed]",
      "text/plain": [
       "<Figure size 864x864 with 1 Axes>"
      ]
     },
     "metadata": {
      "needs_background": "light"
     },
     "output_type": "display_data"
    }
   ],
   "source": [
    "train = pd.read_csv(\"wrangle2_train.csv\")\n",
    "test  = pd.read_csv(\"wrangle2_test.csv\")\n",
    "X_train = train.drop(\n",
    "    columns=['converted'], axis=1)\n",
    "X_test = test.drop(\n",
    "    columns=['converted'], axis=1)\n",
    "\n",
    "y_train = train['converted']\n",
    "y_test = test['converted']\n",
    "\n",
    "encoder = ce.OrdinalEncoder()\n",
    "X_train = encoder.fit_transform(X_train)\n",
    "X_test = encoder.fit_transform(X_test)\n",
    "\n",
    "clf = XGBClassifier()\n",
    "\n",
    "# Cross Validation with Kfold=5\n",
    "print(\"Mean Estimate Predict Score\", cross_val_score(clf, X_train, y_train,\n",
    "                                                     cv=5, scoring='roc_auc', verbose=10).mean())\n",
    "\n",
    "clf.fit(X_train, y_train)\n",
    "print(\"Actual Predict Score\", roc_auc_score(\n",
    "    y_test, clf.predict_proba(X_test)[:, 1]))\n",
    "\n",
    "print(\"-\"*100)\n",
    "fig,ax = plt.subplots(figsize=(12,12))\n",
    "pd.Series(clf.feature_importances_, X_train.columns).sort_values(\n",
    "    ascending=True).plot.barh()\n",
    "plt.show()"
   ]
  },
  {
   "cell_type": "markdown",
   "metadata": {},
   "source": [
    "## Gradient Descent Model Without Score Feature"
   ]
  },
  {
   "cell_type": "code",
   "execution_count": 17,
   "metadata": {
    "ExecuteTime": {
     "end_time": "2019-05-15T18:57:19.372729Z",
     "start_time": "2019-05-15T18:56:04.263931Z"
    }
   },
   "outputs": [
    {
     "name": "stderr",
     "output_type": "stream",
     "text": [
      "[Parallel(n_jobs=1)]: Using backend SequentialBackend with 1 concurrent workers.\n"
     ]
    },
    {
     "name": "stdout",
     "output_type": "stream",
     "text": [
      "[CV]  ................................................................\n",
      "[CV] ....................... , score=0.8047851909352421, total=  11.2s\n",
      "[CV]  ................................................................\n"
     ]
    },
    {
     "name": "stderr",
     "output_type": "stream",
     "text": [
      "[Parallel(n_jobs=1)]: Done   1 out of   1 | elapsed:   11.2s remaining:    0.0s\n"
     ]
    },
    {
     "name": "stdout",
     "output_type": "stream",
     "text": [
      "[CV] ....................... , score=0.8026573871256935, total=  11.1s\n",
      "[CV]  ................................................................\n"
     ]
    },
    {
     "name": "stderr",
     "output_type": "stream",
     "text": [
      "[Parallel(n_jobs=1)]: Done   2 out of   2 | elapsed:   22.4s remaining:    0.0s\n"
     ]
    },
    {
     "name": "stdout",
     "output_type": "stream",
     "text": [
      "[CV] ....................... , score=0.8063466234551566, total=  11.2s\n",
      "[CV]  ................................................................\n"
     ]
    },
    {
     "name": "stderr",
     "output_type": "stream",
     "text": [
      "[Parallel(n_jobs=1)]: Done   3 out of   3 | elapsed:   33.5s remaining:    0.0s\n"
     ]
    },
    {
     "name": "stdout",
     "output_type": "stream",
     "text": [
      "[CV] ....................... , score=0.8059321475228014, total=  11.1s\n",
      "[CV]  ................................................................\n"
     ]
    },
    {
     "name": "stderr",
     "output_type": "stream",
     "text": [
      "[Parallel(n_jobs=1)]: Done   4 out of   4 | elapsed:   44.7s remaining:    0.0s\n"
     ]
    },
    {
     "name": "stdout",
     "output_type": "stream",
     "text": [
      "[CV] ....................... , score=0.7918155160254537, total=  11.1s\n",
      "Mean Estimate Predict Score 0.8023073730128696\n"
     ]
    },
    {
     "name": "stderr",
     "output_type": "stream",
     "text": [
      "[Parallel(n_jobs=1)]: Done   5 out of   5 | elapsed:   55.7s remaining:    0.0s\n",
      "[Parallel(n_jobs=1)]: Done   5 out of   5 | elapsed:   55.7s finished\n"
     ]
    },
    {
     "name": "stdout",
     "output_type": "stream",
     "text": [
      "Actual Predict Score 0.8096487955575498\n",
      "----------------------------------------------------------------------------------------------------\n"
     ]
    },
    {
     "data": {
      "image/png": "[encoded data removed]",
      "text/plain": [
       "<Figure size 864x864 with 1 Axes>"
      ]
     },
     "metadata": {
      "needs_background": "light"
     },
     "output_type": "display_data"
    }
   ],
   "source": [
    "train = pd.read_csv(\"wrangle2_train.csv\")\n",
    "test  = pd.read_csv(\"wrangle2_test.csv\")\n",
    "X_train = train.drop(\n",
    "    columns=['converted','score'], axis=1)\n",
    "X_test = test.drop(\n",
    "    columns=['converted','score'], axis=1)\n",
    "\n",
    "y_train = train['converted']\n",
    "y_test = test['converted']\n",
    "\n",
    "encoder = ce.OrdinalEncoder()\n",
    "X_train = encoder.fit_transform(X_train)\n",
    "X_test = encoder.fit_transform(X_test)\n",
    "\n",
    "clf = XGBClassifier()\n",
    "\n",
    "# Cross Validation with Kfold=5\n",
    "print(\"Mean Estimate Predict Score\", cross_val_score(clf, X_train, y_train,\n",
    "                                                     cv=5, scoring='roc_auc', verbose=10).mean())\n",
    "\n",
    "clf.fit(X_train, y_train)\n",
    "print(\"Actual Predict Score\", roc_auc_score(\n",
    "    y_test, clf.predict_proba(X_test)[:, 1]))\n",
    "\n",
    "print(\"-\"*100)\n",
    "fig,ax = plt.subplots(figsize=(12,12))\n",
    "plt.title('Feature Importance Ranking')\n",
    "pd.Series(clf.feature_importances_, X_train.columns).sort_values(\n",
    "    ascending=True).plot.barh()\n",
    "plt.show()"
   ]
  },
  {
   "cell_type": "markdown",
   "metadata": {},
   "source": [
    "## Neural Network Without Score Feature"
   ]
  },
  {
   "cell_type": "code",
   "execution_count": 21,
   "metadata": {
    "ExecuteTime": {
     "end_time": "2019-05-15T20:16:04.143420Z",
     "start_time": "2019-05-15T19:29:15.895357Z"
    }
   },
   "outputs": [
    {
     "name": "stderr",
     "output_type": "stream",
     "text": [
      "/home/superio/anaconda3/lib/python3.7/site-packages/sklearn/preprocessing/data.py:645: DataConversionWarning: Data with input dtype bool, int64 were all converted to float64 by StandardScaler.\n",
      "  return self.partial_fit(X, y)\n",
      "/home/superio/anaconda3/lib/python3.7/site-packages/sklearn/base.py:464: DataConversionWarning: Data with input dtype bool, int64 were all converted to float64 by StandardScaler.\n",
      "  return self.fit(X, **fit_params).transform(X)\n"
     ]
    },
    {
     "name": "stdout",
     "output_type": "stream",
     "text": [
      "Epoch 1/20\n",
      "79992/79992 [==============================] - 32s 404us/step - loss: 0.3722 - auc: 0.7746\n",
      "Epoch 2/20\n",
      "79992/79992 [==============================] - 24s 300us/step - loss: 0.3408 - auc: 0.8028\n",
      "Epoch 3/20\n",
      "79992/79992 [==============================] - 22s 279us/step - loss: 0.3355 - auc: 0.8063\n",
      "Epoch 4/20\n",
      "79992/79992 [==============================] - 25s 312us/step - loss: 0.3333 - auc: 0.8082\n",
      "Epoch 5/20\n",
      "79992/79992 [==============================] - 33s 418us/step - loss: 0.3320 - auc: 0.8100\n",
      "Epoch 6/20\n",
      "79992/79992 [==============================] - 31s 385us/step - loss: 0.3309 - auc: 0.8113\n",
      "Epoch 7/20\n",
      "79992/79992 [==============================] - 30s 373us/step - loss: 0.3304 - auc: 0.8125\n",
      "Epoch 8/20\n",
      "79992/79992 [==============================] - 33s 414us/step - loss: 0.3295 - auc: 0.8134\n",
      "Epoch 9/20\n",
      "79992/79992 [==============================] - 35s 434us/step - loss: 0.3288 - auc: 0.8144\n",
      "Epoch 10/20\n",
      "79992/79992 [==============================] - 33s 413us/step - loss: 0.3287 - auc: 0.8155\n",
      "Epoch 11/20\n",
      "79992/79992 [==============================] - 35s 435us/step - loss: 0.3279 - auc: 0.8163\n",
      "Epoch 12/20\n",
      "79992/79992 [==============================] - 37s 463us/step - loss: 0.3277 - auc: 0.8171\n",
      "Epoch 13/20\n",
      "79992/79992 [==============================] - 36s 452us/step - loss: 0.3271 - auc: 0.8179\n",
      "Epoch 14/20\n",
      "79992/79992 [==============================] - 35s 441us/step - loss: 0.3269 - auc: 0.8185\n",
      "Epoch 15/20\n",
      "79992/79992 [==============================] - 37s 465us/step - loss: 0.3266 - auc: 0.8191\n",
      "Epoch 16/20\n",
      "79992/79992 [==============================] - 36s 446us/step - loss: 0.3261 - auc: 0.8196\n",
      "Epoch 17/20\n",
      "79992/79992 [==============================] - 36s 447us/step - loss: 0.3259 - auc: 0.8201\n",
      "Epoch 18/20\n",
      "79992/79992 [==============================] - 36s 448us/step - loss: 0.3257 - auc: 0.8207\n",
      "Epoch 19/20\n",
      "79992/79992 [==============================] - 37s 464us/step - loss: 0.3250 - auc: 0.8213\n",
      "Epoch 20/20\n",
      "79992/79992 [==============================] - 36s 445us/step - loss: 0.3251 - auc: 0.8218\n",
      "19998/19998 [==============================] - 3s 149us/step\n",
      "Epoch 1/20\n",
      "79992/79992 [==============================] - 39s 485us/step - loss: 0.3663 - auc: 0.7863\n",
      "Epoch 2/20\n",
      "79992/79992 [==============================] - 35s 435us/step - loss: 0.3391 - auc: 0.8070\n",
      "Epoch 3/20\n",
      "79992/79992 [==============================] - 36s 450us/step - loss: 0.3333 - auc: 0.8093\n",
      "Epoch 4/20\n",
      "79992/79992 [==============================] - 35s 439us/step - loss: 0.3308 - auc: 0.8108\n",
      "Epoch 5/20\n",
      "79992/79992 [==============================] - 38s 472us/step - loss: 0.3293 - auc: 0.8119\n",
      "Epoch 6/20\n",
      "79992/79992 [==============================] - 34s 431us/step - loss: 0.3284 - auc: 0.8131\n",
      "Epoch 7/20\n",
      "79992/79992 [==============================] - 33s 418us/step - loss: 0.3274 - auc: 0.8140\n",
      "Epoch 8/20\n",
      "79992/79992 [==============================] - 37s 457us/step - loss: 0.3266 - auc: 0.8147\n",
      "Epoch 9/20\n",
      "79992/79992 [==============================] - 36s 454us/step - loss: 0.3260 - auc: 0.8156\n",
      "Epoch 10/20\n",
      "79992/79992 [==============================] - 34s 429us/step - loss: 0.3255 - auc: 0.8162\n",
      "Epoch 11/20\n",
      "79992/79992 [==============================] - 35s 432us/step - loss: 0.3251 - auc: 0.8169\n",
      "Epoch 12/20\n",
      "79992/79992 [==============================] - 33s 410us/step - loss: 0.3247 - auc: 0.8176\n",
      "Epoch 13/20\n",
      "79992/79992 [==============================] - 34s 423us/step - loss: 0.3244 - auc: 0.8182\n",
      "Epoch 14/20\n",
      "79992/79992 [==============================] - 33s 410us/step - loss: 0.3241 - auc: 0.8188\n",
      "Epoch 15/20\n",
      "79992/79992 [==============================] - 35s 435us/step - loss: 0.3239 - auc: 0.8194\n",
      "Epoch 16/20\n",
      "79992/79992 [==============================] - 36s 449us/step - loss: 0.3236 - auc: 0.8201\n",
      "Epoch 17/20\n",
      "79992/79992 [==============================] - 32s 403us/step - loss: 0.3231 - auc: 0.8206\n",
      "Epoch 18/20\n",
      "79992/79992 [==============================] - 34s 419us/step - loss: 0.3229 - auc: 0.8210\n",
      "Epoch 19/20\n",
      "79992/79992 [==============================] - 36s 450us/step - loss: 0.3226 - auc: 0.8215\n",
      "Epoch 20/20\n",
      "79992/79992 [==============================] - 33s 412us/step - loss: 0.3224 - auc: 0.8221\n",
      "19998/19998 [==============================] - 3s 150us/step\n",
      "Epoch 1/20\n",
      "79992/79992 [==============================] - 25s 313us/step - loss: 0.3662 - auc: 0.7783\n",
      "Epoch 2/20\n",
      "79992/79992 [==============================] - 29s 366us/step - loss: 0.3371 - auc: 0.8069\n",
      "Epoch 3/20\n",
      "79992/79992 [==============================] - 29s 362us/step - loss: 0.3322 - auc: 0.8095\n",
      "Epoch 4/20\n",
      "79992/79992 [==============================] - 27s 337us/step - loss: 0.3299 - auc: 0.8110\n",
      "Epoch 5/20\n",
      "79992/79992 [==============================] - 27s 339us/step - loss: 0.3286 - auc: 0.8123\n",
      "Epoch 6/20\n",
      "79992/79992 [==============================] - 23s 286us/step - loss: 0.3274 - auc: 0.8133\n",
      "Epoch 7/20\n",
      "79992/79992 [==============================] - 26s 329us/step - loss: 0.3265 - auc: 0.8139\n",
      "Epoch 8/20\n",
      "79992/79992 [==============================] - 24s 300us/step - loss: 0.3254 - auc: 0.8147\n",
      "Epoch 9/20\n",
      "79992/79992 [==============================] - 19s 236us/step - loss: 0.3252 - auc: 0.8155\n",
      "Epoch 10/20\n",
      "79992/79992 [==============================] - 17s 209us/step - loss: 0.3249 - auc: 0.8162\n",
      "Epoch 11/20\n",
      "79992/79992 [==============================] - 17s 212us/step - loss: 0.3241 - auc: 0.8170\n",
      "Epoch 12/20\n",
      "79992/79992 [==============================] - 16s 203us/step - loss: 0.3240 - auc: 0.8176\n",
      "Epoch 13/20\n",
      "79992/79992 [==============================] - 18s 221us/step - loss: 0.3236 - auc: 0.8182\n",
      "Epoch 14/20\n",
      "79992/79992 [==============================] - 20s 251us/step - loss: 0.3231 - auc: 0.8189\n",
      "Epoch 15/20\n",
      "79992/79992 [==============================] - 17s 211us/step - loss: 0.3228 - auc: 0.8195\n",
      "Epoch 16/20\n",
      "79992/79992 [==============================] - 16s 204us/step - loss: 0.3225 - auc: 0.8202\n",
      "Epoch 17/20\n",
      "79992/79992 [==============================] - 21s 267us/step - loss: 0.3219 - auc: 0.8208\n",
      "Epoch 18/20\n",
      "79992/79992 [==============================] - 32s 399us/step - loss: 0.3217 - auc: 0.8214\n",
      "Epoch 19/20\n",
      "79992/79992 [==============================] - 28s 353us/step - loss: 0.3217 - auc: 0.8219\n",
      "Epoch 20/20\n",
      "79992/79992 [==============================] - 28s 351us/step - loss: 0.3211 - auc: 0.8224\n",
      "19998/19998 [==============================] - 4s 189us/step\n",
      "Epoch 1/20\n",
      "79992/79992 [==============================] - 34s 422us/step - loss: 0.3722 - auc: 0.7759\n",
      "Epoch 2/20\n",
      "79992/79992 [==============================] - 24s 294us/step - loss: 0.3410 - auc: 0.8054\n",
      "Epoch 3/20\n",
      "79992/79992 [==============================] - 35s 441us/step - loss: 0.3343 - auc: 0.8080\n",
      "Epoch 4/20\n",
      "79992/79992 [==============================] - 30s 381us/step - loss: 0.3314 - auc: 0.8095\n",
      "Epoch 5/20\n",
      "79992/79992 [==============================] - 23s 292us/step - loss: 0.3302 - auc: 0.8111\n",
      "Epoch 6/20\n",
      "79992/79992 [==============================] - 19s 233us/step - loss: 0.3292 - auc: 0.8120\n",
      "Epoch 7/20\n",
      "79992/79992 [==============================] - 18s 219us/step - loss: 0.3285 - auc: 0.8129\n",
      "Epoch 8/20\n",
      "79992/79992 [==============================] - 29s 359us/step - loss: 0.3277 - auc: 0.8136\n",
      "Epoch 9/20\n",
      "79992/79992 [==============================] - 25s 310us/step - loss: 0.3272 - auc: 0.8143\n",
      "Epoch 10/20\n",
      "79992/79992 [==============================] - 23s 291us/step - loss: 0.3264 - auc: 0.8150\n",
      "Epoch 11/20\n",
      "79992/79992 [==============================] - 24s 298us/step - loss: 0.3263 - auc: 0.8157\n",
      "Epoch 12/20\n",
      "79992/79992 [==============================] - 24s 301us/step - loss: 0.3257 - auc: 0.8162\n",
      "Epoch 13/20\n",
      "79992/79992 [==============================] - 25s 316us/step - loss: 0.3253 - auc: 0.8169\n",
      "Epoch 14/20\n",
      "79992/79992 [==============================] - 24s 297us/step - loss: 0.3251 - auc: 0.8174\n",
      "Epoch 15/20\n",
      "79992/79992 [==============================] - 24s 305us/step - loss: 0.3249 - auc: 0.8179\n",
      "Epoch 16/20\n",
      "79992/79992 [==============================] - 23s 287us/step - loss: 0.3243 - auc: 0.8184\n",
      "Epoch 17/20\n",
      "79992/79992 [==============================] - 25s 314us/step - loss: 0.3242 - auc: 0.8189\n",
      "Epoch 18/20\n",
      "79992/79992 [==============================] - 25s 309us/step - loss: 0.3236 - auc: 0.8194\n",
      "Epoch 19/20\n"
     ]
    },
    {
     "name": "stdout",
     "output_type": "stream",
     "text": [
      "79992/79992 [==============================] - 21s 262us/step - loss: 0.3234 - auc: 0.8199\n",
      "Epoch 20/20\n",
      "79992/79992 [==============================] - 21s 262us/step - loss: 0.3233 - auc: 0.8202\n",
      "19998/19998 [==============================] - 2s 105us/step\n",
      "Epoch 1/20\n",
      "79992/79992 [==============================] - 25s 314us/step - loss: 0.3637 - auc: 0.7912\n",
      "Epoch 2/20\n",
      "79992/79992 [==============================] - 22s 275us/step - loss: 0.3379 - auc: 0.8067\n",
      "Epoch 3/20\n",
      "79992/79992 [==============================] - 24s 298us/step - loss: 0.3343 - auc: 0.8095\n",
      "Epoch 4/20\n",
      "79992/79992 [==============================] - 22s 274us/step - loss: 0.3320 - auc: 0.8106\n",
      "Epoch 5/20\n",
      "79992/79992 [==============================] - 22s 276us/step - loss: 0.3302 - auc: 0.8120\n",
      "Epoch 6/20\n",
      "79992/79992 [==============================] - 22s 281us/step - loss: 0.3298 - auc: 0.8126\n",
      "Epoch 7/20\n",
      "79992/79992 [==============================] - 22s 274us/step - loss: 0.3287 - auc: 0.8134\n",
      "Epoch 8/20\n",
      "79992/79992 [==============================] - 25s 314us/step - loss: 0.3281 - auc: 0.8142\n",
      "Epoch 9/20\n",
      "79992/79992 [==============================] - 22s 272us/step - loss: 0.3274 - auc: 0.8149\n",
      "Epoch 10/20\n",
      "79992/79992 [==============================] - 22s 280us/step - loss: 0.3270 - auc: 0.8157\n",
      "Epoch 11/20\n",
      "79992/79992 [==============================] - 22s 279us/step - loss: 0.3267 - auc: 0.8163\n",
      "Epoch 12/20\n",
      "79992/79992 [==============================] - 24s 303us/step - loss: 0.3266 - auc: 0.8167\n",
      "Epoch 13/20\n",
      "79992/79992 [==============================] - 25s 315us/step - loss: 0.3259 - auc: 0.8176\n",
      "Epoch 14/20\n",
      "79992/79992 [==============================] - 24s 296us/step - loss: 0.3260 - auc: 0.8182\n",
      "Epoch 15/20\n",
      "79992/79992 [==============================] - 23s 283us/step - loss: 0.3251 - auc: 0.8187\n",
      "Epoch 16/20\n",
      "79992/79992 [==============================] - 23s 287us/step - loss: 0.3252 - auc: 0.8193\n",
      "Epoch 17/20\n",
      "79992/79992 [==============================] - 24s 298us/step - loss: 0.3247 - auc: 0.8200\n",
      "Epoch 18/20\n",
      "79992/79992 [==============================] - 25s 316us/step - loss: 0.3244 - auc: 0.8206\n",
      "Epoch 19/20\n",
      "79992/79992 [==============================] - 23s 290us/step - loss: 0.3243 - auc: 0.8211\n",
      "Epoch 20/20\n",
      "79992/79992 [==============================] - 23s 293us/step - loss: 0.3239 - auc: 0.8216\n",
      "19998/19998 [==============================] - 2s 122us/step\n"
     ]
    },
    {
     "data": {
      "text/plain": [
       "array([0.81409106, 0.80535419, 0.80348536, 0.80550424, 0.80951661])"
      ]
     },
     "execution_count": 21,
     "metadata": {},
     "output_type": "execute_result"
    }
   ],
   "source": [
    "X = df.drop(columns=['converted','score'], axis=1)\n",
    "y = df['converted']\n",
    "\n",
    "encoder = ce.OrdinalEncoder()\n",
    "X = encoder.fit_transform(X)\n",
    "\n",
    "scaler = StandardScaler()\n",
    "X = scaler.fit_transform(X)\n",
    "\n",
    "inputs = 36\n",
    "epochs = 20\n",
    "batch_size = 20\n",
    "\n",
    "model = KerasClassifier(build_fn=create_model, epochs=epochs, batch_size=batch_size, verbose=1)\n",
    "\n",
    "#k-fold cross validation\n",
    "cross_val_score(model, X, y, cv=5, scoring='roc_auc')\n"
   ]
  },
  {
   "cell_type": "code",
   "execution_count": null,
   "metadata": {},
   "outputs": [],
   "source": []
  }
 ],
 "metadata": {
  "kernelspec": {
   "display_name": "Python 3",
   "language": "python",
   "name": "python3"
  },
  "toc": {
   "base_numbering": 1,
   "nav_menu": {},
   "number_sections": true,
   "sideBar": true,
   "skip_h1_title": false,
   "title_cell": "Table of Contents",
   "title_sidebar": "Contents",
   "toc_cell": false,
   "toc_position": {},
   "toc_section_display": true,
   "toc_window_display": true
  },
  "varInspector": {
   "cols": {
    "lenName": 16,
    "lenType": 16,
    "lenVar": 40
   },
   "kernels_config": {
    "python": {
     "delete_cmd_postfix": "",
     "delete_cmd_prefix": "del ",
     "library": "var_list.py",
     "varRefreshCmd": "print(var_dic_list())"
    },
    "r": {
     "delete_cmd_postfix": ") ",
     "delete_cmd_prefix": "rm(",
     "library": "var_list.r",
     "varRefreshCmd": "cat(var_dic_list()) "
    }
   },
   "types_to_exclude": [
    "module",
    "function",
    "builtin_function_or_method",
    "instance",
    "_Feature"
   ],
   "window_display": false
  }
 },
 "nbformat": 4,
 "nbformat_minor": 2
}
